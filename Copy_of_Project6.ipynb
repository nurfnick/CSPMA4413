{
  "nbformat": 4,
  "nbformat_minor": 0,
  "metadata": {
    "colab": {
      "name": "Copy of Project6.ipynb",
      "provenance": [],
      "authorship_tag": "ABX9TyP+M8xGAlXHGX3aP+eHbTn3",
      "include_colab_link": true
    },
    "kernelspec": {
      "name": "python3",
      "display_name": "Python 3"
    }
  },
  "cells": [
    {
      "cell_type": "markdown",
      "metadata": {
        "id": "view-in-github",
        "colab_type": "text"
      },
      "source": [
        "<a href=\"https://colab.research.google.com/github/estrickler1/CSPMA4413/blob/main/Copy_of_Project6.ipynb\" target=\"_parent\"><img src=\"https://colab.research.google.com/assets/colab-badge.svg\" alt=\"Open In Colab\"/></a>"
      ]
    },
    {
      "cell_type": "code",
      "metadata": {
        "id": "8CNaLMAMQw6Q"
      },
      "source": [
        "import numpy as np\r\n",
        "from scipy import stats\r\n",
        "import matplotlib.pyplot as plt\r\n",
        "import pandas as pa\r\n",
        "\r\n",
        "%matplotlib inline"
      ],
      "execution_count": 53,
      "outputs": []
    },
    {
      "cell_type": "code",
      "metadata": {
        "id": "IjaSRTE2QyVT"
      },
      "source": [
        "url = 'https://raw.githubusercontent.com/estrickler1/CSPMA4413/main/project%206.csv'\r\n",
        "Data = pa.read_csv(url)"
      ],
      "execution_count": 54,
      "outputs": []
    },
    {
      "cell_type": "code",
      "metadata": {
        "colab": {
          "base_uri": "https://localhost:8080/",
          "height": 419
        },
        "id": "6oQ7lAl5R8vm",
        "outputId": "94180431-f5fa-4570-c2ad-5587726eef79"
      },
      "source": [
        "Data"
      ],
      "execution_count": 55,
      "outputs": [
        {
          "output_type": "execute_result",
          "data": {
            "text/html": [
              "<div>\n",
              "<style scoped>\n",
              "    .dataframe tbody tr th:only-of-type {\n",
              "        vertical-align: middle;\n",
              "    }\n",
              "\n",
              "    .dataframe tbody tr th {\n",
              "        vertical-align: top;\n",
              "    }\n",
              "\n",
              "    .dataframe thead th {\n",
              "        text-align: right;\n",
              "    }\n",
              "</style>\n",
              "<table border=\"1\" class=\"dataframe\">\n",
              "  <thead>\n",
              "    <tr style=\"text-align: right;\">\n",
              "      <th></th>\n",
              "      <th>Year</th>\n",
              "      <th>Gender</th>\n",
              "      <th>Smoke</th>\n",
              "      <th>Award</th>\n",
              "      <th>HigherSAT</th>\n",
              "      <th>Exercise</th>\n",
              "      <th>TV</th>\n",
              "      <th>Height</th>\n",
              "      <th>Weight</th>\n",
              "      <th>Siblings</th>\n",
              "      <th>BirthOrder</th>\n",
              "      <th>VerbalSAT</th>\n",
              "      <th>MathSAT</th>\n",
              "      <th>SAT</th>\n",
              "      <th>GPA</th>\n",
              "      <th>Pulse</th>\n",
              "      <th>Piercings</th>\n",
              "    </tr>\n",
              "  </thead>\n",
              "  <tbody>\n",
              "    <tr>\n",
              "      <th>0</th>\n",
              "      <td>Senior</td>\n",
              "      <td>M</td>\n",
              "      <td>No</td>\n",
              "      <td>Olympic</td>\n",
              "      <td>Math</td>\n",
              "      <td>10.0</td>\n",
              "      <td>1</td>\n",
              "      <td>71</td>\n",
              "      <td>180</td>\n",
              "      <td>4</td>\n",
              "      <td>4.0</td>\n",
              "      <td>540</td>\n",
              "      <td>670</td>\n",
              "      <td>1210</td>\n",
              "      <td>3.13</td>\n",
              "      <td>54</td>\n",
              "      <td>0</td>\n",
              "    </tr>\n",
              "    <tr>\n",
              "      <th>1</th>\n",
              "      <td>Sophomore</td>\n",
              "      <td>F</td>\n",
              "      <td>Yes</td>\n",
              "      <td>Academy</td>\n",
              "      <td>Math</td>\n",
              "      <td>4.0</td>\n",
              "      <td>7</td>\n",
              "      <td>66</td>\n",
              "      <td>120</td>\n",
              "      <td>2</td>\n",
              "      <td>2.0</td>\n",
              "      <td>520</td>\n",
              "      <td>630</td>\n",
              "      <td>1150</td>\n",
              "      <td>2.50</td>\n",
              "      <td>66</td>\n",
              "      <td>3</td>\n",
              "    </tr>\n",
              "    <tr>\n",
              "      <th>2</th>\n",
              "      <td>FirstYear</td>\n",
              "      <td>M</td>\n",
              "      <td>No</td>\n",
              "      <td>Nobel</td>\n",
              "      <td>Math</td>\n",
              "      <td>14.0</td>\n",
              "      <td>5</td>\n",
              "      <td>72</td>\n",
              "      <td>208</td>\n",
              "      <td>2</td>\n",
              "      <td>1.0</td>\n",
              "      <td>550</td>\n",
              "      <td>560</td>\n",
              "      <td>1110</td>\n",
              "      <td>2.55</td>\n",
              "      <td>130</td>\n",
              "      <td>0</td>\n",
              "    </tr>\n",
              "    <tr>\n",
              "      <th>3</th>\n",
              "      <td>Junior</td>\n",
              "      <td>M</td>\n",
              "      <td>No</td>\n",
              "      <td>Nobel</td>\n",
              "      <td>Math</td>\n",
              "      <td>3.0</td>\n",
              "      <td>1</td>\n",
              "      <td>63</td>\n",
              "      <td>110</td>\n",
              "      <td>1</td>\n",
              "      <td>1.0</td>\n",
              "      <td>490</td>\n",
              "      <td>630</td>\n",
              "      <td>1120</td>\n",
              "      <td>3.10</td>\n",
              "      <td>78</td>\n",
              "      <td>0</td>\n",
              "    </tr>\n",
              "    <tr>\n",
              "      <th>4</th>\n",
              "      <td>Sophomore</td>\n",
              "      <td>F</td>\n",
              "      <td>No</td>\n",
              "      <td>Nobel</td>\n",
              "      <td>Verbal</td>\n",
              "      <td>3.0</td>\n",
              "      <td>3</td>\n",
              "      <td>65</td>\n",
              "      <td>150</td>\n",
              "      <td>1</td>\n",
              "      <td>1.0</td>\n",
              "      <td>720</td>\n",
              "      <td>450</td>\n",
              "      <td>1170</td>\n",
              "      <td>2.70</td>\n",
              "      <td>40</td>\n",
              "      <td>6</td>\n",
              "    </tr>\n",
              "    <tr>\n",
              "      <th>...</th>\n",
              "      <td>...</td>\n",
              "      <td>...</td>\n",
              "      <td>...</td>\n",
              "      <td>...</td>\n",
              "      <td>...</td>\n",
              "      <td>...</td>\n",
              "      <td>...</td>\n",
              "      <td>...</td>\n",
              "      <td>...</td>\n",
              "      <td>...</td>\n",
              "      <td>...</td>\n",
              "      <td>...</td>\n",
              "      <td>...</td>\n",
              "      <td>...</td>\n",
              "      <td>...</td>\n",
              "      <td>...</td>\n",
              "      <td>...</td>\n",
              "    </tr>\n",
              "    <tr>\n",
              "      <th>321</th>\n",
              "      <td>Sophomore</td>\n",
              "      <td>F</td>\n",
              "      <td>Yes</td>\n",
              "      <td>Nobel</td>\n",
              "      <td>Verbal</td>\n",
              "      <td>2.0</td>\n",
              "      <td>0</td>\n",
              "      <td>83</td>\n",
              "      <td>130</td>\n",
              "      <td>1</td>\n",
              "      <td>1.0</td>\n",
              "      <td>550</td>\n",
              "      <td>540</td>\n",
              "      <td>1090</td>\n",
              "      <td>3.44</td>\n",
              "      <td>80</td>\n",
              "      <td>3</td>\n",
              "    </tr>\n",
              "    <tr>\n",
              "      <th>322</th>\n",
              "      <td>Sophomore</td>\n",
              "      <td>M</td>\n",
              "      <td>Yes</td>\n",
              "      <td>Olympic</td>\n",
              "      <td>Math</td>\n",
              "      <td>8.0</td>\n",
              "      <td>10</td>\n",
              "      <td>61</td>\n",
              "      <td>180</td>\n",
              "      <td>2</td>\n",
              "      <td>1.0</td>\n",
              "      <td>600</td>\n",
              "      <td>620</td>\n",
              "      <td>1220</td>\n",
              "      <td>3.00</td>\n",
              "      <td>74</td>\n",
              "      <td>0</td>\n",
              "    </tr>\n",
              "    <tr>\n",
              "      <th>323</th>\n",
              "      <td>Sophomore</td>\n",
              "      <td>F</td>\n",
              "      <td>Yes</td>\n",
              "      <td>Nobel</td>\n",
              "      <td>Verbal</td>\n",
              "      <td>1.0</td>\n",
              "      <td>1</td>\n",
              "      <td>65</td>\n",
              "      <td>150</td>\n",
              "      <td>2</td>\n",
              "      <td>2.0</td>\n",
              "      <td>540</td>\n",
              "      <td>450</td>\n",
              "      <td>990</td>\n",
              "      <td>3.27</td>\n",
              "      <td>78</td>\n",
              "      <td>2</td>\n",
              "    </tr>\n",
              "    <tr>\n",
              "      <th>324</th>\n",
              "      <td>FirstYear</td>\n",
              "      <td>M</td>\n",
              "      <td>Yes</td>\n",
              "      <td>Olympic</td>\n",
              "      <td>Verbal</td>\n",
              "      <td>14.0</td>\n",
              "      <td>5</td>\n",
              "      <td>77</td>\n",
              "      <td>205</td>\n",
              "      <td>2</td>\n",
              "      <td>2.0</td>\n",
              "      <td>550</td>\n",
              "      <td>550</td>\n",
              "      <td>1100</td>\n",
              "      <td>2.30</td>\n",
              "      <td>72</td>\n",
              "      <td>0</td>\n",
              "    </tr>\n",
              "    <tr>\n",
              "      <th>325</th>\n",
              "      <td>Sophomore</td>\n",
              "      <td>F</td>\n",
              "      <td>Yes</td>\n",
              "      <td>Olympic</td>\n",
              "      <td>Math</td>\n",
              "      <td>12.0</td>\n",
              "      <td>5</td>\n",
              "      <td>60</td>\n",
              "      <td>115</td>\n",
              "      <td>0</td>\n",
              "      <td>1.0</td>\n",
              "      <td>500</td>\n",
              "      <td>510</td>\n",
              "      <td>1010</td>\n",
              "      <td>2.60</td>\n",
              "      <td>91</td>\n",
              "      <td>5</td>\n",
              "    </tr>\n",
              "  </tbody>\n",
              "</table>\n",
              "<p>326 rows × 17 columns</p>\n",
              "</div>"
            ],
            "text/plain": [
              "          Year Gender Smoke    Award  ...   SAT   GPA  Pulse  Piercings\n",
              "0       Senior      M    No  Olympic  ...  1210  3.13     54          0\n",
              "1    Sophomore      F   Yes  Academy  ...  1150  2.50     66          3\n",
              "2    FirstYear      M    No    Nobel  ...  1110  2.55    130          0\n",
              "3       Junior      M    No    Nobel  ...  1120  3.10     78          0\n",
              "4    Sophomore      F    No    Nobel  ...  1170  2.70     40          6\n",
              "..         ...    ...   ...      ...  ...   ...   ...    ...        ...\n",
              "321  Sophomore      F   Yes    Nobel  ...  1090  3.44     80          3\n",
              "322  Sophomore      M   Yes  Olympic  ...  1220  3.00     74          0\n",
              "323  Sophomore      F   Yes    Nobel  ...   990  3.27     78          2\n",
              "324  FirstYear      M   Yes  Olympic  ...  1100  2.30     72          0\n",
              "325  Sophomore      F   Yes  Olympic  ...  1010  2.60     91          5\n",
              "\n",
              "[326 rows x 17 columns]"
            ]
          },
          "metadata": {
            "tags": []
          },
          "execution_count": 55
        }
      ]
    },
    {
      "cell_type": "code",
      "metadata": {
        "colab": {
          "base_uri": "https://localhost:8080/",
          "height": 282
        },
        "id": "jKKBXQpESSTe",
        "outputId": "ff645528-cf15-4e65-fe70-6747a611af9f"
      },
      "source": [
        "plt.scatter(Data[\"Weight\"],Data[\"Height\"])"
      ],
      "execution_count": 56,
      "outputs": [
        {
          "output_type": "execute_result",
          "data": {
            "text/plain": [
              "<matplotlib.collections.PathCollection at 0x7fabade3d390>"
            ]
          },
          "metadata": {
            "tags": []
          },
          "execution_count": 56
        },
        {
          "output_type": "display_data",
          "data": {
            "image/png": "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\n",
            "text/plain": [
              "<Figure size 432x288 with 1 Axes>"
            ]
          },
          "metadata": {
            "tags": [],
            "needs_background": "light"
          }
        }
      ]
    },
    {
      "cell_type": "code",
      "metadata": {
        "id": "SnbegHneUtMK"
      },
      "source": [
        "def Sumation(Data):\r\n",
        "  Sum = 00\r\n",
        "  for i in Data:\r\n",
        "    Sum += i\r\n",
        "  return Sum\r\n",
        "\r\n",
        "def SquareSumation(Data1,Data2):\r\n",
        "  SqSum = 0\r\n",
        "  for i in range(len(Data1)):\r\n",
        "    SqSum += Data1[i]*Data2[i]\r\n",
        "  return SqSum\r\n",
        "\r\n",
        "def RegressionFormula(Slope, Variable, Intercept):\r\n",
        "  return Slope * Variable + Intercept"
      ],
      "execution_count": 57,
      "outputs": []
    },
    {
      "cell_type": "code",
      "metadata": {
        "id": "o8sN1O5P09hu"
      },
      "source": [
        "n = len(Data[\"Weight\"])\r\n",
        "xMean = Sumation(Data[\"Weight\"]) / n\r\n",
        "yMean = Sumation(Data[\"Height\"]) / n\r\n",
        "Sxx = SquareSumation(Data["Weight"],Data["Weight"]) - n * (xMean)**2\r\n",
        "Sxy = (SquareSumation(Data[\"Weight\"],Data[\"Height\"]) - n * xMean * yMean)\r\n",
        "a1 = Sxy / Sxx\r\n",
        "a0 = yMean - a1 * xMean"
      ],
      "execution_count": 58,
      "outputs": []
    },
    {
      "cell_type": "code",
      "metadata": {
        "id": "zIKdA-y_5bcB"
      },
      "source": [
        "SumResiduals = 0\r\n",
        "for i in range (len(Data[\"Weight\"])):\r\n",
        "    SumResiduals += RegressionFormula(a1, (Data[\"Weight\"][i])-Data[\"Height\"][i], a0)\r\n",
        "\r\n",
        "SqSumResiduals = 0\r\n",
        "for i in range (len(Data[\"Weight\"])):\r\n",
        "    SqSumResiduals += (RegressionFormula(a1, ((Data[\"Weight\"][i])-Data[\"Height\"][i])**2, a0))"
      ],
      "execution_count": 59,
      "outputs": []
    },
    {
      "cell_type": "code",
      "metadata": {
        "colab": {
          "base_uri": "https://localhost:8080/"
        },
        "id": "HmTcKGbeSaqu",
        "outputId": "a64d937e-5f3c-4184-c629-6b9f88ccbd5c"
      },
      "source": [
        "stats.linregress(Data[\"Weight\"],Data[\"Height\"])"
      ],
      "execution_count": 65,
      "outputs": [
        {
          "output_type": "execute_result",
          "data": {
            "text/plain": [
              "LinregressResult(slope=0.08272987210885702, intercept=55.27738730236419, rvalue=0.6304817513812163, pvalue=1.5734775262628191e-37, stderr=0.005658394769365348)"
            ]
          },
          "metadata": {
            "tags": []
          },
          "execution_count": 65
        }
      ]
    },
    {
      "cell_type": "code",
      "metadata": {
        "colab": {
          "base_uri": "https://localhost:8080/"
        },
        "id": "HfYanUtDShDU",
        "outputId": "f31dc595-608d-4d0e-f35f-ce9d4f1c7f70"
      },
      "source": [
        "a1"
      ],
      "execution_count": 61,
      "outputs": [
        {
          "output_type": "execute_result",
          "data": {
            "text/plain": [
              "3.573680427795803e-10"
            ]
          },
          "metadata": {
            "tags": []
          },
          "execution_count": 61
        }
      ]
    },
    {
      "cell_type": "code",
      "metadata": {
        "colab": {
          "base_uri": "https://localhost:8080/"
        },
        "id": "rzi3pOsBSnSm",
        "outputId": "4c68a386-a0e3-4866-de2b-f380c73fb507"
      },
      "source": [
        "a0"
      ],
      "execution_count": 62,
      "outputs": [
        {
          "output_type": "execute_result",
          "data": {
            "text/plain": [
              "68.49386497358365"
            ]
          },
          "metadata": {
            "tags": []
          },
          "execution_count": 62
        }
      ]
    },
    {
      "cell_type": "code",
      "metadata": {
        "colab": {
          "base_uri": "https://localhost:8080/",
          "height": 282
        },
        "id": "GjVx6Iv49TtO",
        "outputId": "0b08a3fd-0300-42ac-db55-179cd405a9ec"
      },
      "source": [
        "x = np.arange( 50,300,1)\r\n",
        "plt.scatter(Data[\"Weight\"],Data[\"Height\"])\r\n",
        "plt.plot(x,RegressionFormula(a1,x,a0))"
      ],
      "execution_count": 69,
      "outputs": [
        {
          "output_type": "execute_result",
          "data": {
            "text/plain": [
              "[<matplotlib.lines.Line2D at 0x7fabad8e1ac8>]"
            ]
          },
          "metadata": {
            "tags": []
          },
          "execution_count": 69
        },
        {
          "output_type": "display_data",
          "data": {
            "image/png": "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\n",
            "text/plain": [
              "<Figure size 432x288 with 1 Axes>"
            ]
          },
          "metadata": {
            "tags": [],
            "needs_background": "light"
          }
        }
      ]
    }
  ]
}
